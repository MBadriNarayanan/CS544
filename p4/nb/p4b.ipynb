{
 "cells": [
  {
   "cell_type": "code",
   "execution_count": 1,
   "id": "a71c5589-738e-4230-8865-cc400d91682d",
   "metadata": {},
   "outputs": [
    {
     "name": "stdout",
     "output_type": "stream",
     "text": [
      "Live datanodes (1):\n"
     ]
    }
   ],
   "source": [
    "#q9\n",
    "! hdfs dfsadmin -fs hdfs://boss:9000 -report | grep 'Live datanodes'"
   ]
  },
  {
   "cell_type": "code",
   "execution_count": 2,
   "id": "09804368-f889-43a4-8d32-b099577bb16c",
   "metadata": {},
   "outputs": [
    {
     "data": {
      "text/plain": [
       "10"
      ]
     },
     "execution_count": 2,
     "metadata": {},
     "output_type": "execute_result"
    }
   ],
   "source": [
    "#q10\n",
    "import requests\n",
    "webhdfs_url = \"http://boss:9870/webhdfs/v1/single.parquet\"\n",
    "params = {\n",
    "    \"op\": \"GETFILEBLOCKLOCATIONS\",\n",
    "    \"length\": 1000000000\n",
    "}\n",
    "response = requests.get(webhdfs_url, params=params)\n",
    "block_locations = response.json()['BlockLocations']['BlockLocation']\n",
    "lost_blocks = sum(1 for block in block_locations if len(block['hosts']) == 0)\n",
    "lost_blocks"
   ]
  }
 ],
 "metadata": {
  "kernelspec": {
   "display_name": "Python 3 (ipykernel)",
   "language": "python",
   "name": "python3"
  },
  "language_info": {
   "codemirror_mode": {
    "name": "ipython",
    "version": 3
   },
   "file_extension": ".py",
   "mimetype": "text/x-python",
   "name": "python",
   "nbconvert_exporter": "python",
   "pygments_lexer": "ipython3",
   "version": "3.10.12"
  }
 },
 "nbformat": 4,
 "nbformat_minor": 5
}
