{
 "cells": [
  {
   "cell_type": "code",
   "execution_count": 1,
   "id": "c10ed724-d42b-4218-8a8c-251b14f90297",
   "metadata": {},
   "outputs": [
    {
     "name": "stdout",
     "output_type": "stream",
     "text": [
      "Live datanodes (2):\n"
     ]
    }
   ],
   "source": [
    "#q1\n",
    "! hdfs dfsadmin -fs hdfs://boss:9000 -report | grep 'Live datanodes'"
   ]
  },
  {
   "cell_type": "code",
   "execution_count": 2,
   "id": "b3978785-6ac9-4b2f-80ff-86c1cdb3fc59",
   "metadata": {},
   "outputs": [
    {
     "name": "stdout",
     "output_type": "stream",
     "text": [
      "--2024-10-19 00:34:32--  https://pages.cs.wisc.edu/~harter/cs544/data/hdma-wi-2021.csv\n",
      "Resolving pages.cs.wisc.edu (pages.cs.wisc.edu)... 128.105.7.9\n",
      "Connecting to pages.cs.wisc.edu (pages.cs.wisc.edu)|128.105.7.9|:443... connected.\n",
      "HTTP request sent, awaiting response... 200 OK\n",
      "Length: 174944099 (167M) [text/csv]\n",
      "Saving to: ‘hdma-wi-2021.csv’\n",
      "\n",
      "hdma-wi-2021.csv    100%[===================>] 166.84M   157MB/s    in 1.1s    \n",
      "\n",
      "2024-10-19 00:34:34 (157 MB/s) - ‘hdma-wi-2021.csv’ saved [174944099/174944099]\n",
      "\n",
      "/nb/hdma-wi-2021.csv: Scheme missing.\n",
      "FINISHED --2024-10-19 00:34:34--\n",
      "Total wall clock time: 1.2s\n",
      "Downloaded: 1 files, 167M in 1.1s (157 MB/s)\n",
      "2024-10-19 00:34:49,063 INFO hdfs.DFSOutputStream: Exception while adding a block\n",
      "org.apache.hadoop.ipc.RemoteException(org.apache.hadoop.hdfs.server.namenode.NotReplicatedYetException): Not replicated yet: /single.parquet._COPYING_\n",
      "\tat org.apache.hadoop.hdfs.server.namenode.FSDirWriteFileOp.validateAddBlock(FSDirWriteFileOp.java:181)\n",
      "\tat org.apache.hadoop.hdfs.server.namenode.FSNamesystem.getAdditionalBlock(FSNamesystem.java:2977)\n",
      "\tat org.apache.hadoop.hdfs.server.namenode.NameNodeRpcServer.addBlock(NameNodeRpcServer.java:912)\n",
      "\tat org.apache.hadoop.hdfs.protocolPB.ClientNamenodeProtocolServerSideTranslatorPB.addBlock(ClientNamenodeProtocolServerSideTranslatorPB.java:595)\n",
      "\tat org.apache.hadoop.hdfs.protocol.proto.ClientNamenodeProtocolProtos$ClientNamenodeProtocol$2.callBlockingMethod(ClientNamenodeProtocolProtos.java)\n",
      "\tat org.apache.hadoop.ipc.ProtobufRpcEngine2$Server$ProtoBufRpcInvoker.call(ProtobufRpcEngine2.java:621)\n",
      "\tat org.apache.hadoop.ipc.ProtobufRpcEngine2$Server$ProtoBufRpcInvoker.call(ProtobufRpcEngine2.java:589)\n",
      "\tat org.apache.hadoop.ipc.ProtobufRpcEngine2$Server$ProtoBufRpcInvoker.call(ProtobufRpcEngine2.java:573)\n",
      "\tat org.apache.hadoop.ipc.RPC$Server.call(RPC.java:1227)\n",
      "\tat org.apache.hadoop.ipc.Server$RpcCall.run(Server.java:1094)\n",
      "\tat org.apache.hadoop.ipc.Server$RpcCall.run(Server.java:1017)\n",
      "\tat java.base/java.security.AccessController.doPrivileged(Native Method)\n",
      "\tat java.base/javax.security.auth.Subject.doAs(Subject.java:423)\n",
      "\tat org.apache.hadoop.security.UserGroupInformation.doAs(UserGroupInformation.java:1899)\n",
      "\tat org.apache.hadoop.ipc.Server$Handler.run(Server.java:3048)\n",
      "\n",
      "\tat org.apache.hadoop.ipc.Client.getRpcResponse(Client.java:1567)\n",
      "\tat org.apache.hadoop.ipc.Client.call(Client.java:1513)\n",
      "\tat org.apache.hadoop.ipc.Client.call(Client.java:1410)\n",
      "\tat org.apache.hadoop.ipc.ProtobufRpcEngine2$Invoker.invoke(ProtobufRpcEngine2.java:258)\n",
      "\tat org.apache.hadoop.ipc.ProtobufRpcEngine2$Invoker.invoke(ProtobufRpcEngine2.java:139)\n",
      "\tat com.sun.proxy.$Proxy12.addBlock(Unknown Source)\n",
      "\tat org.apache.hadoop.hdfs.protocolPB.ClientNamenodeProtocolTranslatorPB.addBlock(ClientNamenodeProtocolTranslatorPB.java:531)\n",
      "\tat java.base/jdk.internal.reflect.NativeMethodAccessorImpl.invoke0(Native Method)\n",
      "\tat java.base/jdk.internal.reflect.NativeMethodAccessorImpl.invoke(NativeMethodAccessorImpl.java:62)\n",
      "\tat java.base/jdk.internal.reflect.DelegatingMethodAccessorImpl.invoke(DelegatingMethodAccessorImpl.java:43)\n",
      "\tat java.base/java.lang.reflect.Method.invoke(Method.java:566)\n",
      "\tat org.apache.hadoop.io.retry.RetryInvocationHandler.invokeMethod(RetryInvocationHandler.java:433)\n",
      "\tat org.apache.hadoop.io.retry.RetryInvocationHandler$Call.invokeMethod(RetryInvocationHandler.java:166)\n",
      "\tat org.apache.hadoop.io.retry.RetryInvocationHandler$Call.invoke(RetryInvocationHandler.java:158)\n",
      "\tat org.apache.hadoop.io.retry.RetryInvocationHandler$Call.invokeOnce(RetryInvocationHandler.java:96)\n",
      "\tat org.apache.hadoop.io.retry.RetryInvocationHandler.invoke(RetryInvocationHandler.java:362)\n",
      "\tat com.sun.proxy.$Proxy13.addBlock(Unknown Source)\n",
      "\tat org.apache.hadoop.hdfs.DFSOutputStream.addBlock(DFSOutputStream.java:1088)\n",
      "\tat org.apache.hadoop.hdfs.DataStreamer.locateFollowingBlock(DataStreamer.java:1915)\n",
      "\tat org.apache.hadoop.hdfs.DataStreamer.nextBlockOutputStream(DataStreamer.java:1717)\n",
      "\tat org.apache.hadoop.hdfs.DataStreamer.run(DataStreamer.java:713)\n",
      "2024-10-19 00:34:49,075 WARN hdfs.DFSOutputStream: NotReplicatedYetException sleeping /single.parquet._COPYING_ retries left 4\n"
     ]
    }
   ],
   "source": [
    "! rm -rf \"/nb/hdma-wi-2021.csv\"\n",
    "! wget \"https://pages.cs.wisc.edu/~harter/cs544/data/hdma-wi-2021.csv\" \"/nb/hdma-wi-2021.csv\"\n",
    "\n",
    "import pyarrow.csv as pv\n",
    "import pyarrow.parquet as pq\n",
    "\n",
    "csv_path = \"/nb/hdma-wi-2021.csv\"\n",
    "parquet_path = \"/nb/hdma-wi-2021.parquet\"\n",
    "\n",
    "table = pv.read_csv(csv_path)\n",
    "pq.write_table(table, parquet_path)\n",
    "\n",
    "! hdfs dfs -rm -f hdfs://boss:9000/single.parquet\n",
    "! hdfs dfs -rm -f hdfs://boss:9000/double.parquet\n",
    "\n",
    "! hdfs dfs -D dfs.block.size=1048576 -D dfs.replication=1 -copyFromLocal {parquet_path} hdfs://boss:9000/single.parquet\n",
    "! hdfs dfs -D dfs.block.size=1048576 -D dfs.replication=2 -copyFromLocal {parquet_path} hdfs://boss:9000/double.parquet"
   ]
  },
  {
   "cell_type": "code",
   "execution_count": 3,
   "id": "a2470f0f-fb85-4d15-81d7-ece1f49e047c",
   "metadata": {},
   "outputs": [
    {
     "name": "stdout",
     "output_type": "stream",
     "text": [
      "15.9 M  15.9 M  hdfs://boss:9000/single.parquet\n",
      "15.9 M  31.7 M  hdfs://boss:9000/double.parquet\n"
     ]
    }
   ],
   "source": [
    "#q2\n",
    "! hdfs dfs -du -h hdfs://boss:9000/single.parquet\n",
    "! hdfs dfs -du -h hdfs://boss:9000/double.parquet"
   ]
  },
  {
   "cell_type": "code",
   "execution_count": 4,
   "id": "928286ab-6ea5-4fec-9bd7-17897022551d",
   "metadata": {},
   "outputs": [
    {
     "data": {
      "text/plain": [
       "{'FileStatus': {'accessTime': 1729298088417,\n",
       "  'blockSize': 1048576,\n",
       "  'childrenNum': 0,\n",
       "  'fileId': 16386,\n",
       "  'group': 'supergroup',\n",
       "  'length': 16642976,\n",
       "  'modificationTime': 1729298090207,\n",
       "  'owner': 'root',\n",
       "  'pathSuffix': '',\n",
       "  'permission': '644',\n",
       "  'replication': 1,\n",
       "  'storagePolicy': 0,\n",
       "  'type': 'FILE'}}"
      ]
     },
     "execution_count": 4,
     "metadata": {},
     "output_type": "execute_result"
    }
   ],
   "source": [
    "#q3\n",
    "import requests\n",
    "hdfs_url = \"http://boss:9870/webhdfs/v1/single.parquet\"\n",
    "params = {\n",
    "    \"op\": \"GETFILESTATUS\"\n",
    "}\n",
    "response = requests.get(hdfs_url, params=params)\n",
    "file_status = response.json()\n",
    "file_status"
   ]
  },
  {
   "cell_type": "code",
   "execution_count": 5,
   "id": "5f3f5966-080e-47aa-888e-4887063d8c8b",
   "metadata": {},
   "outputs": [
    {
     "data": {
      "text/plain": [
       "'http://9322cd244a1a:9864/webhdfs/v1/single.parquet?op=OPEN&namenoderpcaddress=boss:9000&offset=0'"
      ]
     },
     "execution_count": 5,
     "metadata": {},
     "output_type": "execute_result"
    }
   ],
   "source": [
    "#q4\n",
    "hdfs_url = \"http://boss:9870/webhdfs/v1/single.parquet\"\n",
    "params = {\n",
    "    \"op\": \"OPEN\",\n",
    "    \"offset\": 0,\n",
    "    \"noredirect\": \"true\"\n",
    "}\n",
    "response = requests.get(hdfs_url, params=params)\n",
    "location = response.json()['Location']\n",
    "location"
   ]
  },
  {
   "cell_type": "code",
   "execution_count": 6,
   "id": "5dffb076-271e-4471-ae3b-a0ddb1c2e422",
   "metadata": {},
   "outputs": [
    {
     "data": {
      "text/plain": [
       "{'9322cd244a1a': 6, '2a68af0b41a3': 10}"
      ]
     },
     "execution_count": 6,
     "metadata": {},
     "output_type": "execute_result"
    }
   ],
   "source": [
    "#q5\n",
    "import re\n",
    "from collections import defaultdict\n",
    "\n",
    "def get_block_locations(file_path, total_length, block_size):\n",
    "    webhdfs_url = f\"http://boss:9870/webhdfs/v1{file_path}\"\n",
    "    block_distribution = defaultdict(int)\n",
    "\n",
    "    for offset in range(0, total_length, block_size):\n",
    "        params = {\n",
    "            \"op\": \"OPEN\",\n",
    "            \"offset\": offset,\n",
    "            \"noredirect\": \"true\"\n",
    "        }\n",
    "        \n",
    "        response = requests.get(webhdfs_url, params=params)  \n",
    "        if response.status_code == 200:\n",
    "            response = response.json()\n",
    "            location = response['Location']\n",
    "            container_id = re.search(r'http://([^:]+):', location).group(1)\n",
    "            block_distribution[container_id] += 1\n",
    "    return dict(block_distribution)\n",
    "\n",
    "status_params = {\"op\": \"GETFILESTATUS\"}\n",
    "response = requests.get(\"http://boss:9870/webhdfs/v1/single.parquet\", params=status_params)\n",
    "file_status = response.json()['FileStatus']\n",
    "total_length = file_status['length']\n",
    "block_size = file_status['blockSize']\n",
    "block_distribution = get_block_locations(file_path=\"/single.parquet\", total_length=total_length, block_size=block_size)\n",
    "block_distribution"
   ]
  },
  {
   "cell_type": "code",
   "execution_count": 7,
   "id": "d8e68ecf-84bd-4da9-a66d-27880aed3b59",
   "metadata": {},
   "outputs": [
    {
     "data": {
      "text/plain": [
       "{'2a68af0b41a3': 16, '9322cd244a1a': 16}"
      ]
     },
     "execution_count": 7,
     "metadata": {},
     "output_type": "execute_result"
    }
   ],
   "source": [
    "#q6\n",
    "def get_block_locations(file_path, length):\n",
    "    webhdfs_url = f\"http://boss:9870/webhdfs/v1{file_path}\"\n",
    "    params = {\n",
    "        \"op\": \"GETFILEBLOCKLOCATIONS\",\n",
    "        \"length\": length\n",
    "    }\n",
    "    \n",
    "    response = requests.get(webhdfs_url, params=params)   \n",
    "    if response.status_code == 200:\n",
    "        block_locations = response.json()['BlockLocations']['BlockLocation']\n",
    "        block_distribution = defaultdict(int)\n",
    "        for block in block_locations:\n",
    "            for host in block['hosts']:\n",
    "                block_distribution[host] += 1\n",
    "        return dict(block_distribution)\n",
    "\n",
    "status_params = {\"op\": \"GETFILESTATUS\"}\n",
    "response = requests.get(\"http://boss:9870/webhdfs/v1/double.parquet\", params=status_params)\n",
    "file_status = response.json()['FileStatus']\n",
    "total_length = file_status['length']\n",
    "block_distribution = get_block_locations(\"/double.parquet\", total_length)\n",
    "block_distribution"
   ]
  },
  {
   "cell_type": "code",
   "execution_count": 8,
   "id": "0c790116-c6f7-4056-bf82-3bdb14d848ca",
   "metadata": {},
   "outputs": [
    {
     "name": "stderr",
     "output_type": "stream",
     "text": [
      "2024-10-19 00:35:07,716 WARN util.NativeCodeLoader: Unable to load native-hadoop library for your platform... using builtin-java classes where applicable\n"
     ]
    },
    {
     "data": {
      "text/plain": [
       "204961.21752386744"
      ]
     },
     "execution_count": 8,
     "metadata": {},
     "output_type": "execute_result"
    }
   ],
   "source": [
    "#q7\n",
    "import time\n",
    "\n",
    "import pyarrow as pa\n",
    "import pyarrow.compute as pc\n",
    "import pyarrow.parquet as pq\n",
    "\n",
    "hdfs = pa.fs.HadoopFileSystem(host=\"boss\", port=9000)\n",
    "start_time = time.time()\n",
    "with hdfs.open_input_file(\"/double.parquet\") as parquet_file:\n",
    "    table = pq.read_table(parquet_file)\n",
    "avg_loan_amount = pc.mean(table[\"loan_amount\"]).as_py()\n",
    "end_time = time.time()\n",
    "q7_duration = end_time - start_time\n",
    "avg_loan_amount"
   ]
  },
  {
   "cell_type": "code",
   "execution_count": 9,
   "id": "56f18aca-f273-4d13-a6b2-8c601f107a55",
   "metadata": {},
   "outputs": [
    {
     "data": {
      "text/plain": [
       "18.575664991457682"
      ]
     },
     "execution_count": 9,
     "metadata": {},
     "output_type": "execute_result"
    }
   ],
   "source": [
    "#q8\n",
    "hdfs = pa.fs.HadoopFileSystem(host=\"boss\", port=9000)\n",
    "start_time = time.time()\n",
    "with hdfs.open_input_file(\"/double.parquet\") as parquet_file:\n",
    "    table = pq.read_table(parquet_file, columns=[\"loan_amount\"])\n",
    "avg_loan_amount = pc.mean(table[\"loan_amount\"]).as_py()\n",
    "end_time = time.time()\n",
    "q8_duration = end_time - start_time\n",
    "performance_improvement = q7_duration / q8_duration\n",
    "performance_improvement"
   ]
  }
 ],
 "metadata": {
  "kernelspec": {
   "display_name": "Python 3 (ipykernel)",
   "language": "python",
   "name": "python3"
  },
  "language_info": {
   "codemirror_mode": {
    "name": "ipython",
    "version": 3
   },
   "file_extension": ".py",
   "mimetype": "text/x-python",
   "name": "python",
   "nbconvert_exporter": "python",
   "pygments_lexer": "ipython3",
   "version": "3.10.12"
  }
 },
 "nbformat": 4,
 "nbformat_minor": 5
}
