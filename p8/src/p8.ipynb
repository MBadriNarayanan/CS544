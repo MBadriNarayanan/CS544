{
 "cells": [
  {
   "cell_type": "code",
   "execution_count": null,
   "metadata": {},
   "outputs": [],
   "source": [
    "import os\n",
    "from google.cloud import bigquery\n",
    "\n",
    "os.environ[\"GOOGLE_CLOUD_PROJECT\"] = \"bigquery-444006\""
   ]
  },
  {
   "cell_type": "code",
   "execution_count": null,
   "metadata": {},
   "outputs": [],
   "source": [
    "client = bigquery.Client()\n",
    "job_config = bigquery.QueryJobConfig(use_query_cache=False)"
   ]
  },
  {
   "cell_type": "code",
   "execution_count": null,
   "metadata": {},
   "outputs": [],
   "source": [
    "#q1\n",
    "query = \"\"\"\n",
    "SELECT\n",
    "  geo_id\n",
    "FROM\n",
    "  `bigquery-public-data.geo_us_boundaries.counties`\n",
    "WHERE\n",
    "  county_name = 'Dane';\n",
    "\"\"\"\n",
    "result = client.query(query, job_config=job_config)\n",
    "q1_billed = int(result.total_bytes_billed / (1024**2))\n",
    "result = result.result()\n",
    "result = [row.geo_id for row in result][0]\n",
    "result"
   ]
  },
  {
   "cell_type": "code",
   "execution_count": null,
   "metadata": {},
   "outputs": [],
   "source": [
    "#q2\n",
    "query = \"\"\"\n",
    "SELECT\n",
    "  state_fips_code,\n",
    "  COUNT(*) AS county_count\n",
    "FROM\n",
    "  `bigquery-public-data.geo_us_boundaries.counties`\n",
    "GROUP BY\n",
    "  state_fips_code\n",
    "ORDER BY\n",
    "  county_count DESC\n",
    "LIMIT\n",
    "  5;\n",
    "\"\"\"\n",
    "result = client.query(query, job_config=job_config)\n",
    "q2_billed = int(result.total_bytes_billed / (1024**2))\n",
    "result = result.result()\n",
    "result = {row.state_fips_code: row.county_count for row in result}\n",
    "result"
   ]
  },
  {
   "cell_type": "code",
   "execution_count": null,
   "metadata": {},
   "outputs": [],
   "source": [
    "#q3\n",
    "costs = {\"q1\": \"{} MB\".format(q1_billed), \"q2\": \"{} MB\".format(q2_billed)}\n",
    "costs"
   ]
  },
  {
   "cell_type": "code",
   "execution_count": null,
   "metadata": {},
   "outputs": [],
   "source": [
    "dataset_id = \"{}.p8\".format(client.project)\n",
    "dataset = bigquery.Dataset(dataset_id)\n",
    "dataset.location = \"US\"\n",
    "client.create_dataset(dataset, exists_ok=True)"
   ]
  },
  {
   "cell_type": "code",
   "execution_count": null,
   "metadata": {},
   "outputs": [],
   "source": [
    "table_id = \"{}.hdma\".format(dataset_id)\n",
    "job_config = bigquery.LoadJobConfig(source_format=bigquery.SourceFormat.PARQUET)\n",
    "uri = \"gs://uw-madison_cs544_p8_bucket/hdma-wi-2021.parquet\"\n",
    "result = client.load_table_from_uri(uri, table_id, job_config=job_config)\n",
    "result.result()"
   ]
  },
  {
   "cell_type": "code",
   "execution_count": null,
   "metadata": {},
   "outputs": [],
   "source": [
    "#q4\n",
    "datasets = [dataset.dataset_id for dataset in client.list_datasets()]\n",
    "datasets"
   ]
  },
  {
   "cell_type": "code",
   "execution_count": null,
   "metadata": {},
   "outputs": [],
   "source": [
    "#q5\n",
    "query = \"\"\"\n",
    "SELECT\n",
    "  counties.county_name AS county_name,\n",
    "  COUNT(DISTINCT hdma_data.index) AS application_count\n",
    "FROM\n",
    "  `bigquery-444006.p8.hdma` AS hdma_data\n",
    "JOIN\n",
    "  `bigquery-public-data.geo_us_boundaries.counties` AS counties\n",
    "ON\n",
    "  hdma_data.county_code = counties.county_fips_code\n",
    "GROUP BY\n",
    "  county_name\n",
    "ORDER BY\n",
    "  application_count DESC\n",
    "LIMIT\n",
    "  10;\n",
    "\"\"\"\n",
    "result = client.query(query)\n",
    "result = result.result()\n",
    "result = {row.county_name: row.application_count for row in result}\n",
    "result"
   ]
  },
  {
   "cell_type": "code",
   "execution_count": null,
   "metadata": {},
   "outputs": [],
   "source": [
    "table_id = \"bigquery-444006.p8.applications\"\n",
    "sheet_url = \"https://docs.google.com/spreadsheets/d/13e14LzDDm9U4y2KddlKFAy7exNdbo1OwJa-OTe4ywiw/edit\"\n",
    "\n",
    "table_config = bigquery.ExternalConfig(\"GOOGLE_SHEETS\")\n",
    "table_config.source_uris = [sheet_url]\n",
    "table_config.autodetect = True\n",
    "\n",
    "table = bigquery.Table(table_id)\n",
    "table.external_data_configuration = table_config\n",
    "client.create_table(table, exists_ok=True)"
   ]
  },
  {
   "cell_type": "code",
   "execution_count": null,
   "metadata": {},
   "outputs": [],
   "source": [
    "#q6\n",
    "query = f\"\"\"\n",
    "SELECT\n",
    "  COUNT(*) AS application_count\n",
    "FROM\n",
    "  `bigquery-444006.p8.applications`\n",
    "WHERE\n",
    "  income = 120000\n",
    "\"\"\"\n",
    "result = client.query(query)\n",
    "result = result.result()\n",
    "result = [row.application_count for row in result][0]\n",
    "result"
   ]
  },
  {
   "cell_type": "code",
   "execution_count": null,
   "metadata": {},
   "outputs": [],
   "source": [
    "query = f\"\"\"\n",
    "CREATE OR REPLACE MODEL\n",
    "  `bigquery-444006.p8.linear_reg_model` OPTIONS( model_type='LINEAR_REG',\n",
    "    input_label_cols=['loan_amount'] ) AS\n",
    "SELECT\n",
    "  income AS x,\n",
    "  loan_amount\n",
    "FROM\n",
    "  `bigquery-444006.p8.applications`\n",
    "\"\"\"\n",
    "result = client.query(query)\n",
    "result = result.result()"
   ]
  },
  {
   "cell_type": "code",
   "execution_count": null,
   "metadata": {},
   "outputs": [],
   "source": [
    "#q7\n",
    "query = \"\"\"\n",
    "SELECT\n",
    "  r2_score\n",
    "FROM\n",
    "  ML.EVALUATE(MODEL `bigquery-444006.p8.linear_reg_model`);\n",
    "\"\"\"\n",
    "result = client.query(query)\n",
    "result = result.result()\n",
    "result = [row.r2_score for row in result][0]\n",
    "result"
   ]
  },
  {
   "cell_type": "code",
   "execution_count": null,
   "metadata": {},
   "outputs": [],
   "source": [
    "#q8\n",
    "query = f\"\"\"\n",
    "SELECT\n",
    "  MIN( ST_DISTANCE( ST_GEOGPOINT(longitude, latitude), ST_GEOGPOINT(-89.384444, 43.074722) ) ) AS distance\n",
    "FROM\n",
    "  `bigquery-444006.p8.applications`\n",
    "WHERE\n",
    "  longitude IS NOT NULL\n",
    "  AND latitude IS NOT NULL;\n",
    "\"\"\"\n",
    "result = client.query(query)\n",
    "result = result.result()\n",
    "result = next(result)[\"distance\"]\n",
    "result"
   ]
  },
  {
   "cell_type": "code",
   "execution_count": null,
   "metadata": {},
   "outputs": [],
   "source": [
    "#q9\n",
    "query = f\"\"\"\n",
    "SELECT\n",
    "  counties.county_name AS county_name,\n",
    "  COUNT(applications.latitude) AS application_count\n",
    "FROM\n",
    "  `bigquery-public-data.geo_us_boundaries.counties` AS counties\n",
    "JOIN\n",
    "  `bigquery-444006.p8.applications` AS applications\n",
    "ON\n",
    "  ST_CONTAINS(counties.county_geom, ST_GEOGPOINT(applications.longitude, applications.latitude))\n",
    "WHERE\n",
    "  counties.state_fips_code = '55'\n",
    "GROUP BY\n",
    "  county_name;\n",
    "\"\"\"\n",
    "result = client.query(query)\n",
    "result = result.result()\n",
    "result = {row[\"county_name\"]: row[\"application_count\"] for row in result}\n",
    "result"
   ]
  },
  {
   "cell_type": "code",
   "execution_count": null,
   "metadata": {},
   "outputs": [],
   "source": [
    "#q10\n",
    "query = f\"\"\"\n",
    "SELECT\n",
    "  neighbor_data AS bordering_county\n",
    "FROM\n",
    "  `bigquery-public-data.geo_us_boundaries.adjacent_counties`,\n",
    "  UNNEST(neighbors) AS neighbor_data\n",
    "WHERE\n",
    "  county = 'Dane County'\n",
    "  AND state = 'Wisconsin'\n",
    "ORDER BY\n",
    "  bordering_county;\n",
    "\"\"\"\n",
    "result = client.query(query)\n",
    "result = result.result()\n",
    "result = [row.bordering_county for row in result]\n",
    "result"
   ]
  }
 ],
 "metadata": {
  "language_info": {
   "name": "python"
  },
  "orig_nbformat": 4
 },
 "nbformat": 4,
 "nbformat_minor": 2
}
