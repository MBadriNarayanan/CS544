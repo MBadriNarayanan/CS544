{
 "cells": [
  {
   "cell_type": "code",
   "execution_count": 1,
   "metadata": {},
   "outputs": [],
   "source": [
    "#Badri Narayanan Murali Krishnan"
   ]
  },
  {
   "cell_type": "code",
   "execution_count": 2,
   "metadata": {},
   "outputs": [],
   "source": [
    "! hdfs dfs -D dfs.replication=1 -cp -f data/*.csv hdfs://nn:9000/"
   ]
  },
  {
   "cell_type": "code",
   "execution_count": 3,
   "metadata": {},
   "outputs": [
    {
     "name": "stderr",
     "output_type": "stream",
     "text": [
      "Setting default log level to \"WARN\".\n",
      "To adjust logging level use sc.setLogLevel(newLevel). For SparkR, use setLogLevel(newLevel).\n",
      "24/11/07 01:35:25 WARN NativeCodeLoader: Unable to load native-hadoop library for your platform... using builtin-java classes where applicable\n"
     ]
    }
   ],
   "source": [
    "from pyspark.sql import SparkSession\n",
    "\n",
    "spark = (\n",
    "    SparkSession.builder.appName(\"cs544\")\n",
    "    .master(\"spark://boss:7077\")\n",
    "    .config(\"spark.executor.memory\", \"512M\")\n",
    "    .config(\"spark.sql.warehouse.dir\", \"hdfs://nn:9000/user/hive/warehouse\")\n",
    "    .enableHiveSupport()\n",
    "    .getOrCreate()\n",
    ")"
   ]
  },
  {
   "cell_type": "code",
   "execution_count": 4,
   "metadata": {},
   "outputs": [
    {
     "name": "stderr",
     "output_type": "stream",
     "text": [
      "                                                                                \r"
     ]
    },
    {
     "data": {
      "text/plain": [
       "298"
      ]
     },
     "execution_count": 4,
     "metadata": {},
     "output_type": "execute_result"
    }
   ],
   "source": [
    "#q1\n",
    "banks_df = spark.read.csv(\n",
    "    \"hdfs://nn:9000/arid2017_to_lei_xref_csv.csv\", header=True, inferSchema=True\n",
    ")\n",
    "count = banks_df.rdd.filter(\n",
    "    lambda row: row[\"respondent_name\"].startswith(\"The\")\n",
    ").count()\n",
    "count"
   ]
  },
  {
   "cell_type": "code",
   "execution_count": 5,
   "metadata": {},
   "outputs": [
    {
     "name": "stdout",
     "output_type": "stream",
     "text": [
      "root\n",
      " |-- respondent_name: string (nullable = true)\n",
      " |-- arid_2017: string (nullable = true)\n",
      " |-- lei_2018: string (nullable = true)\n",
      " |-- lei_2019: string (nullable = true)\n",
      " |-- lei_2020: string (nullable = true)\n",
      "\n"
     ]
    }
   ],
   "source": [
    "banks_df.printSchema()"
   ]
  },
  {
   "cell_type": "code",
   "execution_count": 6,
   "metadata": {},
   "outputs": [
    {
     "data": {
      "text/plain": [
       "298"
      ]
     },
     "execution_count": 6,
     "metadata": {},
     "output_type": "execute_result"
    }
   ],
   "source": [
    "#q2\n",
    "count = banks_df.filter(\"\"\"respondent_name LIKE 'The%'\"\"\").count()\n",
    "count"
   ]
  },
  {
   "cell_type": "code",
   "execution_count": 7,
   "metadata": {},
   "outputs": [
    {
     "name": "stderr",
     "output_type": "stream",
     "text": [
      "24/11/07 01:35:44 WARN HiveConf: HiveConf of name hive.stats.jdbc.timeout does not exist\n",
      "24/11/07 01:35:44 WARN HiveConf: HiveConf of name hive.stats.retries.wait does not exist\n",
      "24/11/07 01:35:46 WARN ObjectStore: Version information not found in metastore. hive.metastore.schema.verification is not enabled so recording the schema version 2.3.0\n",
      "24/11/07 01:35:46 WARN ObjectStore: setMetaStoreSchemaVersion called but recording version is disabled: version = 2.3.0, comment = Set by MetaStore UNKNOWN@172.18.0.4\n",
      "24/11/07 01:35:47 WARN HadoopFSUtils: The directory hdfs://nn:9000/user/hive/warehouse/banks was not found. Was it deleted very recently?\n",
      "24/11/07 01:35:47 WARN ObjectStore: Failed to get database global_temp, returning NoSuchObjectException\n",
      "24/11/07 01:35:47 WARN FileUtils: File does not exist: hdfs://nn:9000/user/hive/warehouse/banks; Force to delete it.\n",
      "24/11/07 01:35:47 ERROR FileUtils: Failed to delete hdfs://nn:9000/user/hive/warehouse/banks\n",
      "24/11/07 01:35:49 WARN SessionState: METASTORE_FILTER_HOOK will be ignored, since hive.security.authorization.manager is set to instance of HiveAuthorizerFactory.\n",
      "24/11/07 01:35:49 WARN HiveConf: HiveConf of name hive.internal.ss.authz.settings.applied.marker does not exist\n",
      "24/11/07 01:35:49 WARN HiveConf: HiveConf of name hive.stats.jdbc.timeout does not exist\n",
      "24/11/07 01:35:49 WARN HiveConf: HiveConf of name hive.stats.retries.wait does not exist\n",
      "                                                                                \r"
     ]
    },
    {
     "data": {
      "text/plain": [
       "298"
      ]
     },
     "execution_count": 7,
     "metadata": {},
     "output_type": "execute_result"
    }
   ],
   "source": [
    "#q3\n",
    "banks_df.write.saveAsTable(\"banks\", mode=\"overwrite\")\n",
    "sql_table = spark.sql(\n",
    "    \"\"\"SELECT COUNT(*) as count FROM banks WHERE respondent_name LIKE 'The%'\"\"\"\n",
    ")\n",
    "count = sql_table.collect()[0][\"count\"]\n",
    "count"
   ]
  },
  {
   "cell_type": "code",
   "execution_count": 8,
   "metadata": {},
   "outputs": [
    {
     "name": "stderr",
     "output_type": "stream",
     "text": [
      "24/11/07 01:35:55 WARN HadoopFSUtils: The directory hdfs://nn:9000/user/hive/warehouse/loans was not found. Was it deleted very recently?\n",
      "24/11/07 01:35:55 WARN FileUtils: File does not exist: hdfs://nn:9000/user/hive/warehouse/loans; Force to delete it.\n",
      "24/11/07 01:35:55 ERROR FileUtils: Failed to delete hdfs://nn:9000/user/hive/warehouse/loans\n",
      "24/11/07 01:35:55 WARN SparkStringUtils: Truncated the string representation of a plan since it was too large. This behavior can be adjusted by setting 'spark.sql.debug.maxToStringFields'.\n",
      "                                                                                \r"
     ]
    }
   ],
   "source": [
    "loans_df = spark.read.csv(\n",
    "    \"hdfs://nn:9000/hdma-wi-2021.csv\", header=True, inferSchema=True\n",
    ")\n",
    "loans_df.write.bucketBy(8, \"county_code\").saveAsTable(\"loans\", mode=\"overwrite\")"
   ]
  },
  {
   "cell_type": "code",
   "execution_count": 9,
   "metadata": {},
   "outputs": [],
   "source": [
    "view_names = [\n",
    "    \"ethnicity\",\n",
    "    \"race\",\n",
    "    \"sex\",\n",
    "    \"states\",\n",
    "    \"counties\",\n",
    "    \"tracts\",\n",
    "    \"action_taken\",\n",
    "    \"denial_reason\",\n",
    "    \"loan_type\",\n",
    "    \"loan_purpose\",\n",
    "    \"preapproval\",\n",
    "    \"property_type\",\n",
    "]\n",
    "for view_name in view_names:\n",
    "    df = spark.read.csv(\n",
    "        f\"hdfs://nn:9000/{view_name}.csv\", header=True, inferSchema=True\n",
    "    )\n",
    "    df.createOrReplaceTempView(view_name)"
   ]
  },
  {
   "cell_type": "code",
   "execution_count": 10,
   "metadata": {},
   "outputs": [
    {
     "data": {
      "text/plain": [
       "{'banks': False,\n",
       " 'loans': False,\n",
       " 'action_taken': True,\n",
       " 'counties': True,\n",
       " 'denial_reason': True,\n",
       " 'ethnicity': True,\n",
       " 'loan_purpose': True,\n",
       " 'loan_type': True,\n",
       " 'preapproval': True,\n",
       " 'property_type': True,\n",
       " 'race': True,\n",
       " 'sex': True,\n",
       " 'states': True,\n",
       " 'tracts': True}"
      ]
     },
     "execution_count": 10,
     "metadata": {},
     "output_type": "execute_result"
    }
   ],
   "source": [
    "#q4\n",
    "tables_df = spark.sql(\"SHOW TABLES\")\n",
    "tables_dict = {row[\"tableName\"]: row[\"isTemporary\"] for row in tables_df.collect()}\n",
    "tables_dict"
   ]
  },
  {
   "cell_type": "code",
   "execution_count": 11,
   "metadata": {},
   "outputs": [
    {
     "name": "stderr",
     "output_type": "stream",
     "text": [
      "                                                                                \r"
     ]
    },
    {
     "data": {
      "text/plain": [
       "19739"
      ]
     },
     "execution_count": 11,
     "metadata": {},
     "output_type": "execute_result"
    }
   ],
   "source": [
    "#q5\n",
    "query = \"\"\"\n",
    "SELECT COUNT(*) as count \n",
    "FROM banks INNER JOIN loans ON banks.lei_2020 = loans.lei \n",
    "WHERE banks.respondent_name = 'University of Wisconsin Credit Union'\n",
    "\"\"\"\n",
    "result = spark.sql(query)\n",
    "count = result.collect()[0][\"count\"]\n",
    "count"
   ]
  },
  {
   "cell_type": "code",
   "execution_count": 12,
   "metadata": {},
   "outputs": [
    {
     "name": "stdout",
     "output_type": "stream",
     "text": [
      "== Physical Plan ==\n",
      "AdaptiveSparkPlan (25)\n",
      "+- == Final Plan ==\n",
      "   * HashAggregate (15)\n",
      "   +- ShuffleQueryStage (14), Statistics(sizeInBytes=32.0 B, rowCount=2)\n",
      "      +- Exchange (13)\n",
      "         +- * HashAggregate (12)\n",
      "            +- * Project (11)\n",
      "               +- * BroadcastHashJoin Inner BuildLeft (10)\n",
      "                  :- BroadcastQueryStage (6), Statistics(sizeInBytes=8.0 MiB, rowCount=1)\n",
      "                  :  +- BroadcastExchange (5)\n",
      "                  :     +- * Project (4)\n",
      "                  :        +- * Filter (3)\n",
      "                  :           +- * ColumnarToRow (2)\n",
      "                  :              +- Scan parquet spark_catalog.default.banks (1)\n",
      "                  +- * Filter (9)\n",
      "                     +- * ColumnarToRow (8)\n",
      "                        +- Scan parquet spark_catalog.default.loans (7)\n",
      "+- == Initial Plan ==\n",
      "   HashAggregate (24)\n",
      "   +- Exchange (23)\n",
      "      +- HashAggregate (22)\n",
      "         +- Project (21)\n",
      "            +- BroadcastHashJoin Inner BuildLeft (20)\n",
      "               :- BroadcastExchange (18)\n",
      "               :  +- Project (17)\n",
      "               :     +- Filter (16)\n",
      "               :        +- Scan parquet spark_catalog.default.banks (1)\n",
      "               +- Filter (19)\n",
      "                  +- Scan parquet spark_catalog.default.loans (7)\n",
      "\n",
      "\n",
      "(1) Scan parquet spark_catalog.default.banks\n",
      "Output [2]: [respondent_name#66, lei_2020#70]\n",
      "Batched: true\n",
      "Location: InMemoryFileIndex [hdfs://nn:9000/user/hive/warehouse/banks]\n",
      "PushedFilters: [IsNotNull(respondent_name), EqualTo(respondent_name,University of Wisconsin Credit Union), IsNotNull(lei_2020)]\n",
      "ReadSchema: struct<respondent_name:string,lei_2020:string>\n",
      "\n",
      "(2) ColumnarToRow [codegen id : 1]\n",
      "Input [2]: [respondent_name#66, lei_2020#70]\n",
      "\n",
      "(3) Filter [codegen id : 1]\n",
      "Input [2]: [respondent_name#66, lei_2020#70]\n",
      "Condition : ((isnotnull(respondent_name#66) AND (respondent_name#66 = University of Wisconsin Credit Union)) AND isnotnull(lei_2020#70))\n",
      "\n",
      "(4) Project [codegen id : 1]\n",
      "Output [1]: [lei_2020#70]\n",
      "Input [2]: [respondent_name#66, lei_2020#70]\n",
      "\n",
      "(5) BroadcastExchange\n",
      "Input [1]: [lei_2020#70]\n",
      "Arguments: HashedRelationBroadcastMode(List(input[0, string, true]),false), [plan_id=511]\n",
      "\n",
      "(6) BroadcastQueryStage\n",
      "Output [1]: [lei_2020#70]\n",
      "Arguments: 0\n",
      "\n",
      "(7) Scan parquet spark_catalog.default.loans\n",
      "Output [1]: [lei#989]\n",
      "Batched: true\n",
      "Bucketed: false (bucket column(s) not read)\n",
      "Location: InMemoryFileIndex [hdfs://nn:9000/user/hive/warehouse/loans]\n",
      "PushedFilters: [IsNotNull(lei)]\n",
      "ReadSchema: struct<lei:string>\n",
      "\n",
      "(8) ColumnarToRow\n",
      "Input [1]: [lei#989]\n",
      "\n",
      "(9) Filter\n",
      "Input [1]: [lei#989]\n",
      "Condition : isnotnull(lei#989)\n",
      "\n",
      "(10) BroadcastHashJoin [codegen id : 2]\n",
      "Left keys [1]: [lei_2020#70]\n",
      "Right keys [1]: [lei#989]\n",
      "Join type: Inner\n",
      "Join condition: None\n",
      "\n",
      "(11) Project [codegen id : 2]\n",
      "Output: []\n",
      "Input [2]: [lei_2020#70, lei#989]\n",
      "\n",
      "(12) HashAggregate [codegen id : 2]\n",
      "Input: []\n",
      "Keys: []\n",
      "Functions [1]: [partial_count(1)]\n",
      "Aggregate Attributes [1]: [count#1089L]\n",
      "Results [1]: [count#1090L]\n",
      "\n",
      "(13) Exchange\n",
      "Input [1]: [count#1090L]\n",
      "Arguments: SinglePartition, ENSURE_REQUIREMENTS, [plan_id=569]\n",
      "\n",
      "(14) ShuffleQueryStage\n",
      "Output [1]: [count#1090L]\n",
      "Arguments: 1\n",
      "\n",
      "(15) HashAggregate [codegen id : 3]\n",
      "Input [1]: [count#1090L]\n",
      "Keys: []\n",
      "Functions [1]: [count(1)]\n",
      "Aggregate Attributes [1]: [count(1)#987L]\n",
      "Results [1]: [count(1)#987L AS count#986L]\n",
      "\n",
      "(16) Filter\n",
      "Input [2]: [respondent_name#66, lei_2020#70]\n",
      "Condition : ((isnotnull(respondent_name#66) AND (respondent_name#66 = University of Wisconsin Credit Union)) AND isnotnull(lei_2020#70))\n",
      "\n",
      "(17) Project\n",
      "Output [1]: [lei_2020#70]\n",
      "Input [2]: [respondent_name#66, lei_2020#70]\n",
      "\n",
      "(18) BroadcastExchange\n",
      "Input [1]: [lei_2020#70]\n",
      "Arguments: HashedRelationBroadcastMode(List(input[0, string, true]),false), [plan_id=480]\n",
      "\n",
      "(19) Filter\n",
      "Input [1]: [lei#989]\n",
      "Condition : isnotnull(lei#989)\n",
      "\n",
      "(20) BroadcastHashJoin\n",
      "Left keys [1]: [lei_2020#70]\n",
      "Right keys [1]: [lei#989]\n",
      "Join type: Inner\n",
      "Join condition: None\n",
      "\n",
      "(21) Project\n",
      "Output: []\n",
      "Input [2]: [lei_2020#70, lei#989]\n",
      "\n",
      "(22) HashAggregate\n",
      "Input: []\n",
      "Keys: []\n",
      "Functions [1]: [partial_count(1)]\n",
      "Aggregate Attributes [1]: [count#1089L]\n",
      "Results [1]: [count#1090L]\n",
      "\n",
      "(23) Exchange\n",
      "Input [1]: [count#1090L]\n",
      "Arguments: SinglePartition, ENSURE_REQUIREMENTS, [plan_id=485]\n",
      "\n",
      "(24) HashAggregate\n",
      "Input [1]: [count#1090L]\n",
      "Keys: []\n",
      "Functions [1]: [count(1)]\n",
      "Aggregate Attributes [1]: [count(1)#987L]\n",
      "Results [1]: [count(1)#987L AS count#986L]\n",
      "\n",
      "(25) AdaptiveSparkPlan\n",
      "Output [1]: [count#986L]\n",
      "Arguments: isFinalPlan=true\n",
      "\n",
      "\n"
     ]
    }
   ],
   "source": [
    "#q6\n",
    "result.explain(\"formatted\")\n",
    "# 1. The banks table gets broadcast to all executors. This means\n",
    "#    Spark first filters the banks table to just find UWCU's records, then copies this small\n",
    "#    filtered subset to every executor. This is much more efficient than shuffling around the\n",
    "#    full loans table or trying to coordinate joins across nodes.\n",
    "#\n",
    "# 2. Looking at HashAggregates in the plan:\n",
    "#    - First HashAggregate: Each executor counts its own portion of matching loans locally\n",
    "#      (this is labeled as \"partial\" in the plan)\n",
    "#    - Second HashAggregate: All these local counts get combined into one final number\n",
    "#      (this is labeled as \"final\" in the plan)\n",
    "#    Similar to divide and conquer."
   ]
  },
  {
   "cell_type": "code",
   "execution_count": 13,
   "metadata": {},
   "outputs": [],
   "source": [
    "import matplotlib.pyplot as plt"
   ]
  },
  {
   "cell_type": "code",
   "execution_count": 14,
   "metadata": {},
   "outputs": [
    {
     "name": "stderr",
     "output_type": "stream",
     "text": [
      "                                                                                \r"
     ]
    },
    {
     "data": {
      "text/plain": [
       "{'Milwaukee': 3.1173465727097907,\n",
       " 'Waukesha': 2.8758225602027756,\n",
       " 'Washington': 2.851009389671362,\n",
       " 'Dane': 2.890674955595027,\n",
       " 'Brown': 3.010949119373777,\n",
       " 'Racine': 3.099783715012723,\n",
       " 'Outagamie': 2.979661835748792,\n",
       " 'Winnebago': 3.0284761904761908,\n",
       " 'Ozaukee': 2.8673765432098772,\n",
       " 'Sheboygan': 2.995511111111111}"
      ]
     },
     "execution_count": 14,
     "metadata": {},
     "output_type": "execute_result"
    },
    {
     "data": {
      "image/png": "[encoded data removed]",
      "text/plain": [
       "<Figure size 1000x600 with 1 Axes>"
      ]
     },
     "metadata": {},
     "output_type": "display_data"
    }
   ],
   "source": [
    "#q7\n",
    "query = \"\"\"\n",
    "WITH stats AS (\n",
    "    SELECT c.NAME as county_name, COUNT(*) as application_count, AVG(l.interest_rate) as avg_interest_rate\n",
    "    FROM loans l\n",
    "    INNER JOIN banks b ON l.lei = b.lei_2020\n",
    "    INNER JOIN counties c ON l.county_code = c.STATE * 1000 + c.COUNTY\n",
    "    WHERE b.respondent_name = \"Wells Fargo Bank, National Association\"\n",
    "    GROUP BY c.NAME\n",
    ")\n",
    "SELECT county_name, avg_interest_rate\n",
    "FROM stats\n",
    "ORDER BY application_count DESC\n",
    "LIMIT 10\n",
    "\"\"\"\n",
    "results = spark.sql(query).collect()\n",
    "county_rates = {row[\"county_name\"]: row[\"avg_interest_rate\"] for row in results}\n",
    "counties = list(county_rates.keys())\n",
    "rates = list(county_rates.values())\n",
    "\n",
    "plt.figure(figsize=(10, 6))\n",
    "plt.bar(counties, rates)\n",
    "plt.xticks(rotation=45, ha=\"right\")\n",
    "plt.ylabel(\"Average Interest Rate\")\n",
    "plt.xlabel(\"County\")\n",
    "plt.title(\"Average Wells Fargo Interest Rates by County\")\n",
    "plt.tight_layout()\n",
    "plt.savefig(\"../q7.png\")\n",
    "\n",
    "county_rates"
   ]
  },
  {
   "cell_type": "code",
   "execution_count": 15,
   "metadata": {},
   "outputs": [
    {
     "name": "stdout",
     "output_type": "stream",
     "text": [
      "== Physical Plan ==\n",
      "AdaptiveSparkPlan isFinalPlan=false\n",
      "+- HashAggregate(keys=[county_code#992], functions=[avg(cast(interest_rate#1011 as double))])\n",
      "   +- HashAggregate(keys=[county_code#992], functions=[partial_avg(cast(interest_rate#1011 as double))])\n",
      "      +- FileScan parquet spark_catalog.default.loans[county_code#992,interest_rate#1011] Batched: true, Bucketed: true, DataFilters: [], Format: Parquet, Location: InMemoryFileIndex(1 paths)[hdfs://nn:9000/user/hive/warehouse/loans], PartitionFilters: [], PushedFilters: [], ReadSchema: struct<county_code:string,interest_rate:string>, SelectedBucketsCount: 8 out of 8\n",
      "\n",
      "\n",
      "== Physical Plan ==\n",
      "AdaptiveSparkPlan isFinalPlan=false\n",
      "+- HashAggregate(keys=[lei#989], functions=[avg(cast(interest_rate#1011 as double))])\n",
      "   +- Exchange hashpartitioning(lei#989, 200), ENSURE_REQUIREMENTS, [plan_id=879]\n",
      "      +- HashAggregate(keys=[lei#989], functions=[partial_avg(cast(interest_rate#1011 as double))])\n",
      "         +- FileScan parquet spark_catalog.default.loans[lei#989,interest_rate#1011] Batched: true, Bucketed: false (bucket column(s) not read), DataFilters: [], Format: Parquet, Location: InMemoryFileIndex(1 paths)[hdfs://nn:9000/user/hive/warehouse/loans], PartitionFilters: [], PushedFilters: [], ReadSchema: struct<lei:string,interest_rate:string>\n",
      "\n",
      "\n"
     ]
    }
   ],
   "source": [
    "#q8\n",
    "spark.sql(\n",
    "    \"\"\"\n",
    "    SELECT county_code, AVG(interest_rate) as avg_rate\n",
    "    FROM loans\n",
    "    GROUP BY county_code\n",
    "    \"\"\"\n",
    ").explain()\n",
    "spark.sql(\n",
    "    \"\"\"\n",
    "    SELECT lei, AVG(interest_rate) as avg_rate\n",
    "    FROM loans\n",
    "    GROUP BY lei\n",
    "    \"\"\"\n",
    ").explain()\n",
    "# Network I/O between partial_mean and mean operations is required when:\n",
    "# 1. The data for a single group is spread across multiple partitions\n",
    "# 2. We need to combine partial results from different executors to get the final mean\n",
    "#\n",
    "# GROUP BY county_code (No Network I/O needed):\n",
    "# - When we created the loans table, we used bucketBy(8, \"county_code\"), \n",
    "#   effectively pre-sorting the data so all loans for each county are in the same bucket.\n",
    "# - This setup allows each executor to calculate means for counties independently, \n",
    "#   as it has all necessary data locally. There's no need to exchange data across the network.\n",
    "\n",
    "#\n",
    "# GROUP BY lei (Network I/O required):\n",
    "# - We didn't bucketize by lei, so loan applications for each bank are randomly scattered\n",
    "#   across our 8 buckets, randomly filed across different drawers\n",
    "# - To calculate a bank's mean interest rate, we need to:\n",
    "#   1. Each executor calculates partial means for its piece (partial_mean)\n",
    "#   2. Shuffle data over network to group all pieces for each bank together\n",
    "#   3. Combine these partial results into final means (mean)\n",
    "#\n",
    "# The execution plans confirm this: county_code grouping shows a simpler plan without Exchange\n",
    "# (shuffle) operations, while lei grouping requires data Exchange to compute accurate means."
   ]
  },
  {
   "cell_type": "code",
   "execution_count": 16,
   "metadata": {},
   "outputs": [],
   "source": [
    "from pyspark.ml.feature import VectorAssembler\n",
    "from pyspark.ml.classification import DecisionTreeClassifier"
   ]
  },
  {
   "cell_type": "code",
   "execution_count": 17,
   "metadata": {},
   "outputs": [
    {
     "name": "stdout",
     "output_type": "stream",
     "text": [
      "+-----------+------+-------------+--------+\n",
      "|loan_amount|income|interest_rate|approval|\n",
      "+-----------+------+-------------+--------+\n",
      "|   255000.0| 210.0|          0.0|     1.0|\n",
      "|   435000.0|   0.0|        3.125|     0.0|\n",
      "|   435000.0| 190.0|          0.0|     1.0|\n",
      "|   165000.0|   0.0|         3.25|     0.0|\n",
      "|   205000.0|   0.0|          0.0|     1.0|\n",
      "|   305000.0|   0.0|          3.5|     0.0|\n",
      "|   195000.0|  43.0|         2.75|     1.0|\n",
      "|   185000.0|   0.0|          3.5|     0.0|\n",
      "|   265000.0|  93.0|         2.75|     1.0|\n",
      "|   185000.0|   0.0|         3.25|     0.0|\n",
      "|   475000.0|   0.0|        1.999|     1.0|\n",
      "|   235000.0|   0.0|         3.25|     0.0|\n",
      "|   425000.0|   0.0|          2.0|     1.0|\n",
      "|   235000.0|   0.0|         3.25|     0.0|\n",
      "|   185000.0|   0.0|         2.25|     1.0|\n",
      "|   385000.0|   0.0|          3.0|     0.0|\n",
      "|   365000.0| 321.0|        2.625|     1.0|\n",
      "|   155000.0|   0.0|          2.5|     0.0|\n",
      "|   245000.0|   0.0|         3.75|     1.0|\n",
      "|   315000.0|   0.0|          3.0|     0.0|\n",
      "+-----------+------+-------------+--------+\n",
      "only showing top 20 rows\n",
      "\n"
     ]
    }
   ],
   "source": [
    "df = spark.sql(\n",
    "    \"\"\"\n",
    "    SELECT\n",
    "        CAST(loan_amount AS DOUBLE) AS loan_amount,\n",
    "        CAST(income AS DOUBLE) AS income,\n",
    "        CAST(interest_rate AS DOUBLE) AS interest_rate,\n",
    "        CASE WHEN action_taken = 1 THEN 1.0 ELSE 0.0 END AS approval\n",
    "    FROM loans\n",
    "    \"\"\"\n",
    ")\n",
    "df = df.select(\"loan_amount\", \"income\", \"interest_rate\", \"approval\").fillna(0.0)\n",
    "df.show(20)"
   ]
  },
  {
   "cell_type": "code",
   "execution_count": 18,
   "metadata": {},
   "outputs": [
    {
     "name": "stderr",
     "output_type": "stream",
     "text": [
      "24/11/07 01:36:54 WARN DAGScheduler: Broadcasting large task binary with size 1076.7 KiB\n",
      "24/11/07 01:36:55 WARN DAGScheduler: Broadcasting large task binary with size 1369.0 KiB\n",
      "24/11/07 01:36:55 WARN DAGScheduler: Broadcasting large task binary with size 1689.8 KiB\n",
      "24/11/07 01:36:55 WARN DAGScheduler: Broadcasting large task binary with size 2043.5 KiB\n",
      "24/11/07 01:36:56 WARN DAGScheduler: Broadcasting large task binary with size 2.3 MiB\n",
      "                                                                                \r"
     ]
    },
    {
     "data": {
      "text/plain": [
       "{'depth=1': 0.8809425750509244,\n",
       " 'depth=5': 0.8929195560947918,\n",
       " 'depth=10': 0.8954796914480349,\n",
       " 'depth=15': 0.8948674851679115,\n",
       " 'depth=20': 0.893943610236089}"
      ]
     },
     "execution_count": 18,
     "metadata": {},
     "output_type": "execute_result"
    }
   ],
   "source": [
    "#q9\n",
    "train, test = df.randomSplit([0.8, 0.2], seed=41)\n",
    "train.cache()\n",
    "\n",
    "\n",
    "assembler = VectorAssembler(\n",
    "    inputCols=[\"loan_amount\", \"income\", \"interest_rate\"], outputCol=\"X\"\n",
    ")\n",
    "\n",
    "train_data = assembler.transform(train)\n",
    "test_data = assembler.transform(test)\n",
    "\n",
    "accuracy = {\"depth=1\": 1, \"depth=5\": 5, \"depth=10\": 10, \"depth=15\": 15, \"depth=20\": 20}\n",
    "\n",
    "for key, depth in accuracy.items():\n",
    "    decision_tree = DecisionTreeClassifier(\n",
    "        maxDepth=depth, labelCol=\"approval\", featuresCol=\"X\", seed=41\n",
    "    )\n",
    "    classifier = decision_tree.fit(train_data)\n",
    "    y_pred = classifier.transform(test_data)\n",
    "    total = y_pred.filter(\n",
    "        (y_pred.approval.isNotNull()) & (y_pred.prediction.isNotNull())\n",
    "    ).count()\n",
    "    correct = y_pred.filter(\n",
    "        (y_pred.approval == y_pred.prediction) & (y_pred.approval.isNotNull())\n",
    "    ).count()\n",
    "    accuracy[key] = float(correct / total)\n",
    "accuracy"
   ]
  },
  {
   "cell_type": "code",
   "execution_count": 19,
   "metadata": {},
   "outputs": [],
   "source": [
    "#q10\n",
    "# No, the test accuracy does not always increase with larger max_depth values.\n",
    "# Looking at the numbers:\n",
    "# - Accuracy increases from depth 1 to 10\n",
    "# - But then starts decreasing after depth 10\n",
    "# - At depth 20, accuracy is lower than at depth 10\n",
    "#\n",
    "# This happens because deeper trees can start \"memorizing\" the training data\n",
    "# rather than learning general patterns => Overfitting.\n",
    "# At some point, making the tree deeper just makes it overfit to the training\n",
    "# data, hurting its ability to make good predictions on new data it hasn't\n",
    "# seen before."
   ]
  }
 ],
 "metadata": {
  "kernelspec": {
   "display_name": "Python 3 (ipykernel)",
   "language": "python",
   "name": "python3"
  },
  "language_info": {
   "codemirror_mode": {
    "name": "ipython",
    "version": 3
   },
   "file_extension": ".py",
   "mimetype": "text/x-python",
   "name": "python",
   "nbconvert_exporter": "python",
   "pygments_lexer": "ipython3",
   "version": "3.10.12"
  }
 },
 "nbformat": 4,
 "nbformat_minor": 4
}
